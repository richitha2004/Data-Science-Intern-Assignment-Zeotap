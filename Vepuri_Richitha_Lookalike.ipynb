{
 "cells": [
  {
   "cell_type": "code",
   "execution_count": 6,
   "id": "4a02377e-9f89-4882-bcc6-a3145f169068",
   "metadata": {},
   "outputs": [
    {
     "name": "stdout",
     "output_type": "stream",
     "text": [
      "Requirement already satisfied: scikit-learn in c:\\users\\hp\\appdata\\local\\programs\\python\\python313\\lib\\site-packages (1.6.1)\n",
      "Requirement already satisfied: numpy>=1.19.5 in c:\\users\\hp\\appdata\\local\\programs\\python\\python313\\lib\\site-packages (from scikit-learn) (2.2.2)\n",
      "Requirement already satisfied: scipy>=1.6.0 in c:\\users\\hp\\appdata\\local\\programs\\python\\python313\\lib\\site-packages (from scikit-learn) (1.15.1)\n",
      "Requirement already satisfied: joblib>=1.2.0 in c:\\users\\hp\\appdata\\local\\programs\\python\\python313\\lib\\site-packages (from scikit-learn) (1.4.2)\n",
      "Requirement already satisfied: threadpoolctl>=3.1.0 in c:\\users\\hp\\appdata\\local\\programs\\python\\python313\\lib\\site-packages (from scikit-learn) (3.5.0)\n"
     ]
    }
   ],
   "source": [
    "!pip install scikit-learn"
   ]
  },
  {
   "cell_type": "code",
   "execution_count": 7,
   "id": "2ee0d5af-ba2b-4d28-ac12-4604a3f9ae96",
   "metadata": {},
   "outputs": [],
   "source": [
    "import pandas as pd\n",
    "import numpy as np\n",
    "from sklearn.preprocessing import LabelEncoder, StandardScaler\n",
    "from sklearn.metrics.pairwise import cosine_similarity"
   ]
  },
  {
   "cell_type": "code",
   "execution_count": 8,
   "id": "e37e74d4-056e-4486-a58a-cedc40a3ab4f",
   "metadata": {},
   "outputs": [],
   "source": [
    "# Load datasets\n",
    "customers = pd.read_csv(\"Customers.csv\")\n",
    "products = pd.read_csv(\"Products.csv\")\n",
    "transactions = pd.read_csv(\"Transactions.csv\")"
   ]
  },
  {
   "cell_type": "code",
   "execution_count": 9,
   "id": "63050e0a-74ce-4176-a5e3-0aa42267037a",
   "metadata": {},
   "outputs": [],
   "source": [
    "# Merge transactions with product details\n",
    "transactions = transactions.merge(products, on=\"ProductID\", how=\"left\")"
   ]
  },
  {
   "cell_type": "code",
   "execution_count": 10,
   "id": "1eef9d59-0f9b-4697-acf0-20372d1ff9f0",
   "metadata": {},
   "outputs": [],
   "source": [
    "# Aggregate transaction data per customer\n",
    "customer_transactions = transactions.groupby(\"CustomerID\").agg(\n",
    "    total_spent=(\"TotalValue\", \"sum\"),\n",
    "    total_transactions=(\"TransactionID\", \"count\"),\n",
    "    avg_spent_per_trans=(\"TotalValue\", \"mean\")\n",
    ").reset_index()"
   ]
  },
  {
   "cell_type": "code",
   "execution_count": 11,
   "id": "2aa2fda9-191a-43cc-8ee7-bd09cc3243f9",
   "metadata": {},
   "outputs": [],
   "source": [
    "# Extract product preference (most purchased category per customer)\n",
    "top_category = transactions.groupby([\"CustomerID\", \"Category\"]).size().reset_index(name='count')\n",
    "top_category = top_category.loc[top_category.groupby(\"CustomerID\")[\"count\"].idxmax(), [\"CustomerID\", \"Category\"]]"
   ]
  },
  {
   "cell_type": "code",
   "execution_count": 12,
   "id": "d87e05b8-3e12-414b-9e6d-c850f15a5feb",
   "metadata": {},
   "outputs": [],
   "source": [
    "# Merge with customer profile\n",
    "customers = customers.merge(customer_transactions, on=\"CustomerID\", how=\"left\")\n",
    "customers = customers.merge(top_category, on=\"CustomerID\", how=\"left\")"
   ]
  },
  {
   "cell_type": "code",
   "execution_count": 13,
   "id": "63a579bd-e0c7-4070-bb69-884cc664074e",
   "metadata": {},
   "outputs": [],
   "source": [
    "# Encode categorical features (Region, Category)\n",
    "encoder = LabelEncoder()\n",
    "customers[\"Region\"] = encoder.fit_transform(customers[\"Region\"])\n",
    "customers[\"Category\"] = encoder.fit_transform(customers[\"Category\"])"
   ]
  },
  {
   "cell_type": "code",
   "execution_count": 14,
   "id": "df2394ac-2b44-436a-a3c5-d63c167ae8e0",
   "metadata": {},
   "outputs": [],
   "source": [
    "# Normalize numerical features\n",
    "scaler = StandardScaler()\n",
    "customers[[\"total_spent\", \"total_transactions\", \"avg_spent_per_trans\"]] = scaler.fit_transform(\n",
    "    customers[[\"total_spent\", \"total_transactions\", \"avg_spent_per_trans\"]]\n",
    ")"
   ]
  },
  {
   "cell_type": "code",
   "execution_count": 16,
   "id": "094f964a-8a49-4e64-9165-e1fe3cfcae4a",
   "metadata": {},
   "outputs": [],
   "source": [
    "# Handle missing values (drop rows with NaN values)\n",
    "customers = customers.dropna()"
   ]
  },
  {
   "cell_type": "code",
   "execution_count": 17,
   "id": "bc2b337d-2bdf-48e0-ae7c-9f7200bb10f8",
   "metadata": {},
   "outputs": [],
   "source": [
    "# Compute similarity using cosine similarity\n",
    "customer_features = customers[[\"Region\", \"total_spent\", \"total_transactions\", \"avg_spent_per_trans\", \"Category\"]]\n",
    "similarity_matrix = cosine_similarity(customer_features)"
   ]
  },
  {
   "cell_type": "code",
   "execution_count": 18,
   "id": "f0bad2c6-104a-4bdd-9dd3-f77071cdbe2e",
   "metadata": {},
   "outputs": [],
   "source": [
    "# Convert to DataFrame\n",
    "similarity_df = pd.DataFrame(similarity_matrix, index=customers[\"CustomerID\"], columns=customers[\"CustomerID\"])"
   ]
  },
  {
   "cell_type": "code",
   "execution_count": 21,
   "id": "2b84eb31-8468-4faf-87f6-9293879beef3",
   "metadata": {},
   "outputs": [
    {
     "name": "stdout",
     "output_type": "stream",
     "text": [
      "Vepuri_Richitha_Lookalike.csv created successfully!\n"
     ]
    }
   ],
   "source": [
    "# Get top 3 similar customers for first 20 customers\n",
    "lookalike_results = {}\n",
    "\n",
    "for customer in customers[\"CustomerID\"][:20]:\n",
    "    similar_customers = similarity_df[customer].drop(customer).nlargest(3)\n",
    "    lookalike_results[customer] = list(zip(similar_customers.index, similar_customers.values))\n",
    "\n",
    "# Convert to required format and save\n",
    "lookalike_df = pd.DataFrame(list(lookalike_results.items()), columns=[\"cust_id\", \"lookalikes\"])\n",
    "lookalike_df.to_csv(\"Vepuri_Richitha_Lookalike.csv\", index=False)\n",
    "\n",
    "print(\"Vepuri_Richitha_Lookalike.csv created successfully!\")"
   ]
  },
  {
   "cell_type": "code",
   "execution_count": null,
   "id": "6a78aa25-5016-409a-a1a2-f832aefc147e",
   "metadata": {},
   "outputs": [],
   "source": []
  }
 ],
 "metadata": {
  "kernelspec": {
   "display_name": "Python 3 (ipykernel)",
   "language": "python",
   "name": "python3"
  },
  "language_info": {
   "codemirror_mode": {
    "name": "ipython",
    "version": 3
   },
   "file_extension": ".py",
   "mimetype": "text/x-python",
   "name": "python",
   "nbconvert_exporter": "python",
   "pygments_lexer": "ipython3",
   "version": "3.13.1"
  }
 },
 "nbformat": 4,
 "nbformat_minor": 5
}
